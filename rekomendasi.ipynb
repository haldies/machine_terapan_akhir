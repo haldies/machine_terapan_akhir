{
  "nbformat": 4,
  "nbformat_minor": 0,
  "metadata": {
    "colab": {
      "provenance": [],
      "toc_visible": true
    },
    "kernelspec": {
      "name": "python3",
      "display_name": "Python 3"
    },
    "language_info": {
      "name": "python"
    }
  },
  "cells": [
    {
      "cell_type": "markdown",
      "source": [
        "#Import libary yang dibutuhkan"
      ],
      "metadata": {
        "id": "da18woZ1vV7m"
      }
    },
    {
      "cell_type": "code",
      "source": [
        "# pip install lightfm"
      ],
      "metadata": {
        "id": "7mCua6aCmt9Y"
      },
      "execution_count": 2,
      "outputs": []
    },
    {
      "cell_type": "code",
      "source": [
        "import pandas as pd\n",
        "from lightfm import LightFM\n",
        "from lightfm.data import Dataset\n",
        "import pandas as pd\n",
        "import matplotlib.pyplot as plt\n",
        "import seaborn as sns\n",
        "import numpy as np\n",
        "from lightfm.cross_validation import random_train_test_split\n",
        "from lightfm.evaluation import precision_at_k, auc_score\n",
        "from IPython.display import Image, display\n",
        "import warnings\n",
        "warnings.filterwarnings('ignore')\n",
        "\n"
      ],
      "metadata": {
        "id": "s7go3Q1PmsCJ"
      },
      "execution_count": 3,
      "outputs": []
    },
    {
      "cell_type": "markdown",
      "source": [
        "# Data wrangling"
      ],
      "metadata": {
        "id": "P3u6T6GrTruE"
      }
    },
    {
      "cell_type": "markdown",
      "source": [
        "## Gathering Data"
      ],
      "metadata": {
        "id": "Pde_7T2pvb8S"
      }
    },
    {
      "cell_type": "code",
      "source": [
        "df_ratings = pd.read_csv('Ratings.csv')\n",
        "df_books = pd.read_csv('Books.csv')\n",
        "df_users = pd.read_csv('Users.csv')\n",
        "\n",
        "\n",
        "print(df_users.shape)\n",
        "print(df_books.shape)\n",
        "print(df_ratings.shape)\n"
      ],
      "metadata": {
        "colab": {
          "base_uri": "https://localhost:8080/"
        },
        "id": "CJvM11xPpZTT",
        "outputId": "4a16e06c-3b58-4153-c83d-1a49efaf3e83"
      },
      "execution_count": 132,
      "outputs": [
        {
          "output_type": "stream",
          "name": "stderr",
          "text": [
            "<ipython-input-132-5c4657d05cbb>:2: DtypeWarning: Columns (3) have mixed types. Specify dtype option on import or set low_memory=False.\n",
            "  df_books = pd.read_csv('Books.csv')\n"
          ]
        },
        {
          "output_type": "stream",
          "name": "stdout",
          "text": [
            "(278858, 3)\n",
            "(271360, 8)\n",
            "(1149780, 3)\n"
          ]
        }
      ]
    },
    {
      "cell_type": "markdown",
      "source": [
        "## Assessing Data"
      ],
      "metadata": {
        "id": "TR8nX4n-CHBz"
      }
    },
    {
      "cell_type": "code",
      "source": [
        "\n",
        "print(\"\\n--- Info Users ---\")\n",
        "print(df_users.info())\n",
        "print(\"\\n--- Missing Users ---\")\n",
        "print(df_users.isnull().sum())"
      ],
      "metadata": {
        "colab": {
          "base_uri": "https://localhost:8080/"
        },
        "id": "GYS4JOUWue_X",
        "outputId": "a7b23a44-d7b7-4064-de0f-46ac5a30bab8"
      },
      "execution_count": 133,
      "outputs": [
        {
          "output_type": "stream",
          "name": "stdout",
          "text": [
            "\n",
            "--- Info Users ---\n",
            "<class 'pandas.core.frame.DataFrame'>\n",
            "RangeIndex: 278858 entries, 0 to 278857\n",
            "Data columns (total 3 columns):\n",
            " #   Column    Non-Null Count   Dtype  \n",
            "---  ------    --------------   -----  \n",
            " 0   User-ID   278858 non-null  int64  \n",
            " 1   Location  278858 non-null  object \n",
            " 2   Age       168096 non-null  float64\n",
            "dtypes: float64(1), int64(1), object(1)\n",
            "memory usage: 6.4+ MB\n",
            "None\n",
            "\n",
            "--- Missing Users ---\n",
            "User-ID          0\n",
            "Location         0\n",
            "Age         110762\n",
            "dtype: int64\n"
          ]
        }
      ]
    },
    {
      "cell_type": "markdown",
      "source": [
        "Dataset: Users\n",
        "Jumlah total entri: 278.858 pengguna.\n",
        "\n",
        "Kolom Age (usia) memiliki 110.762 missing values, atau sekitar 39.7% dari total data.\n",
        "\n",
        "Usia disimpan sebagai float, tapi seharusnya bisa dikonversi ke int setelah pembersihan.\n",
        "\n",
        "Tidak ada missing value untuk kolom User-ID dan Location.\n"
      ],
      "metadata": {
        "id": "Sxb0_0hmwN6e"
      }
    },
    {
      "cell_type": "code",
      "source": [
        "print(\"\\n--- Info Books ---\")\n",
        "print(df_books.info())\n",
        "print(\"\\n--- Missing Books ---\")\n",
        "print(df_books.isnull().sum())"
      ],
      "metadata": {
        "colab": {
          "base_uri": "https://localhost:8080/"
        },
        "id": "4K_wLStJwhIg",
        "outputId": "55969f1c-2463-4463-ab45-900c0ad97b64"
      },
      "execution_count": 134,
      "outputs": [
        {
          "output_type": "stream",
          "name": "stdout",
          "text": [
            "\n",
            "--- Info Books ---\n",
            "<class 'pandas.core.frame.DataFrame'>\n",
            "RangeIndex: 271360 entries, 0 to 271359\n",
            "Data columns (total 8 columns):\n",
            " #   Column               Non-Null Count   Dtype \n",
            "---  ------               --------------   ----- \n",
            " 0   ISBN                 271360 non-null  object\n",
            " 1   Book-Title           271360 non-null  object\n",
            " 2   Book-Author          271358 non-null  object\n",
            " 3   Year-Of-Publication  271360 non-null  object\n",
            " 4   Publisher            271358 non-null  object\n",
            " 5   Image-URL-S          271360 non-null  object\n",
            " 6   Image-URL-M          271360 non-null  object\n",
            " 7   Image-URL-L          271357 non-null  object\n",
            "dtypes: object(8)\n",
            "memory usage: 16.6+ MB\n",
            "None\n",
            "\n",
            "--- Missing Books ---\n",
            "ISBN                   0\n",
            "Book-Title             0\n",
            "Book-Author            2\n",
            "Year-Of-Publication    0\n",
            "Publisher              2\n",
            "Image-URL-S            0\n",
            "Image-URL-M            0\n",
            "Image-URL-L            3\n",
            "dtype: int64\n"
          ]
        }
      ]
    },
    {
      "cell_type": "markdown",
      "source": [
        "Dataset: Books\n",
        "\n",
        "Jumlah entri: 271.360 buku.\n",
        "\n",
        "Kolom Book-Author dan Publisher memiliki 2 missing values masing-masing.\n",
        "\n",
        "Kolom Image-URL-L (gambar ukuran besar) memiliki 3 missing values.\n",
        "\n",
        "Semua kolom bertipe object, termasuk Year-Of-Publication yang seharusnya bertipe numerik.\n"
      ],
      "metadata": {
        "id": "iHNPIFTtwp-A"
      }
    },
    {
      "cell_type": "code",
      "source": [
        "print(\"\\n--- Info Ratings ---\")\n",
        "print(df_ratings.info())\n",
        "print(\"\\n--- Missing Ratings ---\")\n",
        "print(df_ratings.isnull().sum())"
      ],
      "metadata": {
        "colab": {
          "base_uri": "https://localhost:8080/"
        },
        "id": "mjJB3eF1wifB",
        "outputId": "1eea6773-2769-41d3-e858-d0407de99c05"
      },
      "execution_count": 135,
      "outputs": [
        {
          "output_type": "stream",
          "name": "stdout",
          "text": [
            "\n",
            "--- Info Ratings ---\n",
            "<class 'pandas.core.frame.DataFrame'>\n",
            "RangeIndex: 1149780 entries, 0 to 1149779\n",
            "Data columns (total 3 columns):\n",
            " #   Column       Non-Null Count    Dtype \n",
            "---  ------       --------------    ----- \n",
            " 0   User-ID      1149780 non-null  int64 \n",
            " 1   ISBN         1149780 non-null  object\n",
            " 2   Book-Rating  1149780 non-null  int64 \n",
            "dtypes: int64(2), object(1)\n",
            "memory usage: 26.3+ MB\n",
            "None\n",
            "\n",
            "--- Missing Ratings ---\n",
            "User-ID        0\n",
            "ISBN           0\n",
            "Book-Rating    0\n",
            "dtype: int64\n"
          ]
        }
      ]
    },
    {
      "cell_type": "markdown",
      "source": [
        "\n",
        "Dataset: Ratings\n",
        "\n",
        "Jumlah entri: 1.149.780 rating buku dari pengguna.\n",
        "\n",
        "Tidak ada missing value.\n",
        "\n",
        "Book-Rating bernilai antara 0–10, di mana 0 menunjukkan rating implisit (misalnya, user melihat buku tapi tidak memberikan penilaian eksplisit)."
      ],
      "metadata": {
        "id": "ebSlxrp8w0v4"
      }
    },
    {
      "cell_type": "markdown",
      "source": [
        "## Cleaning Dataset"
      ],
      "metadata": {
        "id": "EyEzWTNZ_0Gg"
      }
    },
    {
      "cell_type": "code",
      "source": [
        "df_books = df_books.dropna(subset=['Book-Author', 'Publisher', 'Image-URL-L'])\n",
        "df_books.isnull().sum()\n"
      ],
      "metadata": {
        "colab": {
          "base_uri": "https://localhost:8080/",
          "height": 335
        },
        "id": "JU9nbZag_65v",
        "outputId": "6711ac9a-ab16-4f1f-8e1e-08d504485245"
      },
      "execution_count": 136,
      "outputs": [
        {
          "output_type": "execute_result",
          "data": {
            "text/plain": [
              "ISBN                   0\n",
              "Book-Title             0\n",
              "Book-Author            0\n",
              "Year-Of-Publication    0\n",
              "Publisher              0\n",
              "Image-URL-S            0\n",
              "Image-URL-M            0\n",
              "Image-URL-L            0\n",
              "dtype: int64"
            ],
            "text/html": [
              "<div>\n",
              "<style scoped>\n",
              "    .dataframe tbody tr th:only-of-type {\n",
              "        vertical-align: middle;\n",
              "    }\n",
              "\n",
              "    .dataframe tbody tr th {\n",
              "        vertical-align: top;\n",
              "    }\n",
              "\n",
              "    .dataframe thead th {\n",
              "        text-align: right;\n",
              "    }\n",
              "</style>\n",
              "<table border=\"1\" class=\"dataframe\">\n",
              "  <thead>\n",
              "    <tr style=\"text-align: right;\">\n",
              "      <th></th>\n",
              "      <th>0</th>\n",
              "    </tr>\n",
              "  </thead>\n",
              "  <tbody>\n",
              "    <tr>\n",
              "      <th>ISBN</th>\n",
              "      <td>0</td>\n",
              "    </tr>\n",
              "    <tr>\n",
              "      <th>Book-Title</th>\n",
              "      <td>0</td>\n",
              "    </tr>\n",
              "    <tr>\n",
              "      <th>Book-Author</th>\n",
              "      <td>0</td>\n",
              "    </tr>\n",
              "    <tr>\n",
              "      <th>Year-Of-Publication</th>\n",
              "      <td>0</td>\n",
              "    </tr>\n",
              "    <tr>\n",
              "      <th>Publisher</th>\n",
              "      <td>0</td>\n",
              "    </tr>\n",
              "    <tr>\n",
              "      <th>Image-URL-S</th>\n",
              "      <td>0</td>\n",
              "    </tr>\n",
              "    <tr>\n",
              "      <th>Image-URL-M</th>\n",
              "      <td>0</td>\n",
              "    </tr>\n",
              "    <tr>\n",
              "      <th>Image-URL-L</th>\n",
              "      <td>0</td>\n",
              "    </tr>\n",
              "  </tbody>\n",
              "</table>\n",
              "</div><br><label><b>dtype:</b> int64</label>"
            ]
          },
          "metadata": {},
          "execution_count": 136
        }
      ]
    },
    {
      "cell_type": "markdown",
      "source": [
        " 1. Filter data rating yang bernilai > 0 (artinya rating valid, bukan nol atau kosong)"
      ],
      "metadata": {
        "id": "6xWv_Y_yy-kg"
      }
    },
    {
      "cell_type": "code",
      "source": [
        "\n",
        "df_ratings = df_ratings[df_ratings['Book-Rating'] > 0]\n",
        "\n",
        "df_ratings.shape"
      ],
      "metadata": {
        "colab": {
          "base_uri": "https://localhost:8080/"
        },
        "id": "bmwNsArtppvC",
        "outputId": "562b6dec-fd1e-412f-b389-12ca6a3ca69c"
      },
      "execution_count": 137,
      "outputs": [
        {
          "output_type": "execute_result",
          "data": {
            "text/plain": [
              "(433671, 3)"
            ]
          },
          "metadata": {},
          "execution_count": 137
        }
      ]
    },
    {
      "cell_type": "markdown",
      "source": [
        "Filter user yang aktif: user yang punya lebih dari 100 rating"
      ],
      "metadata": {
        "id": "FHM0nbDWfvFC"
      }
    },
    {
      "cell_type": "code",
      "source": [
        "\n",
        "user_counts = df_ratings['User-ID'].value_counts()\n",
        "active_users = user_counts[user_counts > 100].index\n",
        "df_ratings = df_ratings[df_ratings['User-ID'].isin(active_users)]\n",
        "\n",
        "df_ratings.shape"
      ],
      "metadata": {
        "colab": {
          "base_uri": "https://localhost:8080/"
        },
        "id": "evQdEwIQpwlu",
        "outputId": "a81241b4-b55c-4f02-d4a3-7cea27a1a957"
      },
      "execution_count": 138,
      "outputs": [
        {
          "output_type": "execute_result",
          "data": {
            "text/plain": [
              "(116945, 3)"
            ]
          },
          "metadata": {},
          "execution_count": 138
        }
      ]
    },
    {
      "cell_type": "code",
      "source": [
        "\n",
        "book_counts = df_ratings['ISBN'].value_counts()\n",
        "popular_books = book_counts[book_counts > 10].index\n",
        "df_ratings = df_ratings[df_ratings['ISBN'].isin(popular_books)]\n",
        "df_ratings.shape"
      ],
      "metadata": {
        "colab": {
          "base_uri": "https://localhost:8080/"
        },
        "id": "DuhEg6oKog7G",
        "outputId": "7a3075ca-1961-4794-e8b3-d94cc1ac46a3"
      },
      "execution_count": 139,
      "outputs": [
        {
          "output_type": "execute_result",
          "data": {
            "text/plain": [
              "(8516, 3)"
            ]
          },
          "metadata": {},
          "execution_count": 139
        }
      ]
    },
    {
      "cell_type": "code",
      "source": [
        "interactions = df_ratings"
      ],
      "metadata": {
        "id": "fCBFoBHxmsad"
      },
      "execution_count": 140,
      "outputs": []
    },
    {
      "cell_type": "markdown",
      "source": [
        "Data Cleaning"
      ],
      "metadata": {
        "id": "IcXUCuzYMRbh"
      }
    },
    {
      "cell_type": "code",
      "source": [
        "# Bersihkan dataset books dari missing values\n",
        "print(f\" Books sebelum cleaning: {df_books.shape}\")\n",
        "df_books = df_books.dropna(subset=['Book-Author', 'Publisher', 'Image-URL-L'])\n",
        "print(f\" Books setelah cleaning: {df_books.shape}\")\n",
        "print(f\" Berhasil menghapus {df_books.shape[0]} baris dengan missing values\")"
      ],
      "metadata": {
        "colab": {
          "base_uri": "https://localhost:8080/"
        },
        "id": "t56nof6zMRNV",
        "outputId": "c951ed13-5ec9-46b4-8ae6-8473106fc3f7"
      },
      "execution_count": 141,
      "outputs": [
        {
          "output_type": "stream",
          "name": "stdout",
          "text": [
            "📚 Books sebelum cleaning: (271353, 8)\n",
            "📚 Books setelah cleaning: (271353, 8)\n",
            "✅ Berhasil menghapus 271353 baris dengan missing values\n"
          ]
        }
      ]
    },
    {
      "cell_type": "code",
      "source": [
        "print(\"=\" * 80)\n",
        "print(\"SUMMARY DATA SETELAH CLEANING\")\n",
        "print(\"=\" * 80)\n",
        "\n",
        "print(f\" Jumlah Users Aktif: {df_ratings['User-ID'].nunique()}\")\n",
        "print(f\" Jumlah Books Populer: {df_ratings['ISBN'].nunique()}\")\n",
        "print(f\" Total Interactions: {len(df_ratings)}\")\n",
        "print(f\" Rata-rata Rating: {df_ratings['Book-Rating'].mean():.2f}\")\n",
        "print(f\" Sparsity: {(1 - len(df_ratings) / (df_ratings['User-ID'].nunique() * df_ratings['ISBN'].nunique())) * 100:.2f}%\")"
      ],
      "metadata": {
        "colab": {
          "base_uri": "https://localhost:8080/"
        },
        "id": "7jZd5XKYMOQs",
        "outputId": "d8ff76cd-7c2b-4026-ec5f-411fe46426bd"
      },
      "execution_count": 142,
      "outputs": [
        {
          "output_type": "stream",
          "name": "stdout",
          "text": [
            "================================================================================\n",
            "SUMMARY DATA SETELAH CLEANING\n",
            "================================================================================\n",
            " Jumlah Users Aktif: 460\n",
            " Jumlah Books Populer: 515\n",
            " Total Interactions: 8516\n",
            " Rata-rata Rating: 8.03\n",
            " Sparsity: 96.41%\n"
          ]
        }
      ]
    },
    {
      "cell_type": "markdown",
      "source": [
        "# INISIALISASI DATASET LIGHTFM"
      ],
      "metadata": {
        "id": "1ArDvbqzPmSi"
      }
    },
    {
      "cell_type": "code",
      "source": [
        "dataset = Dataset()\n",
        "\n",
        "dataset.fit(\n",
        "    users=df_ratings['User-ID'].unique(),\n",
        "    items=df_ratings['ISBN'].unique()\n",
        ")\n",
        "\n",
        "print(f\" Dataset LightFM berhasil diinisialisasi\")\n",
        "print(f\" Jumlah users: {len(df_ratings['User-ID'].unique())}\")\n",
        "print(f\" Jumlah items: {len(df_ratings['ISBN'].unique())}\")\n"
      ],
      "metadata": {
        "colab": {
          "base_uri": "https://localhost:8080/"
        },
        "id": "L_5mOi9SMnZN",
        "outputId": "65b6b80b-bd67-4d2e-e7c7-32e52d7e721d"
      },
      "execution_count": 143,
      "outputs": [
        {
          "output_type": "stream",
          "name": "stdout",
          "text": [
            " Dataset LightFM berhasil diinisialisasi\n",
            " Jumlah users: 460\n",
            " Jumlah items: 515\n"
          ]
        }
      ]
    },
    {
      "cell_type": "code",
      "source": [
        "valid_isbns = set(df_ratings['ISBN'].unique())\n",
        "df_books = df_books[df_books['ISBN'].isin(valid_isbns)].copy()\n",
        "print(f\"📚 Books dataset after filtering: {len(df_books)} books\")"
      ],
      "metadata": {
        "colab": {
          "base_uri": "https://localhost:8080/"
        },
        "id": "hwXVCRnZP2RX",
        "outputId": "60fed1df-398f-485b-a2a7-48f23cf98b56"
      },
      "execution_count": 144,
      "outputs": [
        {
          "output_type": "stream",
          "name": "stdout",
          "text": [
            "📚 Books dataset after filtering: 513 books\n"
          ]
        }
      ]
    },
    {
      "cell_type": "markdown",
      "source": [
        "## Persiapan Item Features untuk Hybrid Model"
      ],
      "metadata": {
        "id": "VAgAI9IoMv9H"
      }
    },
    {
      "cell_type": "code",
      "source": [
        "all_features = set()\n",
        "\n",
        "for _, row in df_books.iterrows():\n",
        "    features = [\n",
        "        f\"title:{row['Book-Title']}\",\n",
        "        f\"author:{row['Book-Author']}\",\n",
        "        f\"publisher:{row['Publisher']}\"\n",
        "    ]\n",
        "    all_features.update(features)"
      ],
      "metadata": {
        "id": "Lo895AVjMqTT"
      },
      "execution_count": 145,
      "outputs": []
    },
    {
      "cell_type": "code",
      "source": [
        "print(f\" Total unique features: {len(all_features)}\")"
      ],
      "metadata": {
        "colab": {
          "base_uri": "https://localhost:8080/"
        },
        "id": "z2zl7lYCM2XI",
        "outputId": "e70d01d5-e0e4-4512-d25e-852c33d9e687"
      },
      "execution_count": 146,
      "outputs": [
        {
          "output_type": "stream",
          "name": "stdout",
          "text": [
            " Total unique features: 854\n"
          ]
        }
      ]
    },
    {
      "cell_type": "code",
      "source": [
        "# Fit item features ke dataset\n",
        "dataset.fit_partial(item_features=list(all_features))\n",
        "print(\" Item features berhasil di-fit ke dataset\")"
      ],
      "metadata": {
        "colab": {
          "base_uri": "https://localhost:8080/"
        },
        "id": "-ESsqDKnM7dB",
        "outputId": "d85a007c-f0cb-4045-f960-795b78cbf818"
      },
      "execution_count": 147,
      "outputs": [
        {
          "output_type": "stream",
          "name": "stdout",
          "text": [
            " Item features berhasil di-fit ke dataset\n"
          ]
        }
      ]
    },
    {
      "cell_type": "markdown",
      "source": [
        "Build interaction matrix dengan rating sebagai weight"
      ],
      "metadata": {
        "id": "s6EsFMt9M-Mj"
      }
    },
    {
      "cell_type": "code",
      "source": [
        "interactions, weights = dataset.build_interactions([\n",
        "    (row['User-ID'], row['ISBN'], row['Book-Rating'])\n",
        "    for _, row in df_ratings.iterrows()\n",
        "])\n",
        "\n",
        "print(f\" Interaction matrix shape: {interactions.shape}\")\n",
        "print(f\" Total interactions: {interactions.nnz}\")\n",
        "print(f\" Density: {(interactions.nnz / (interactions.shape[0] * interactions.shape[1])) * 100:.4f}%\")"
      ],
      "metadata": {
        "colab": {
          "base_uri": "https://localhost:8080/"
        },
        "id": "PQsgr0VjNBe5",
        "outputId": "2a17a5ed-ac41-43a3-a9bf-15198aea30e3"
      },
      "execution_count": 148,
      "outputs": [
        {
          "output_type": "stream",
          "name": "stdout",
          "text": [
            " Interaction matrix shape: (460, 515)\n",
            " Total interactions: 8516\n",
            " Density: 3.5948%\n"
          ]
        }
      ]
    },
    {
      "cell_type": "markdown",
      "source": [
        "# Build item features matrix untuk hybrid model"
      ],
      "metadata": {
        "id": "Lz9I22nONTc9"
      }
    },
    {
      "cell_type": "code",
      "source": [
        "valid_isbns = set(df_ratings['ISBN'].unique())\n",
        "print(f\" Valid ISBNs in ratings: {len(valid_isbns)}\")\n",
        "print(f\" ISBNs in books dataset: {len(df_books['ISBN'].unique())}\")\n",
        "\n",
        "df_books_filtered = df_books[df_books['ISBN'].isin(valid_isbns)].copy()\n",
        "print(f\" Books after filtering: {len(df_books_filtered)}\")\n",
        "\n",
        "item_features_data = []\n",
        "for _, row in df_books_filtered.iterrows():\n",
        "    isbn = row['ISBN']\n",
        "    if isbn in dataset.mapping()[2]:\n",
        "        features = [\n",
        "            f\"title:{row['Book-Title']}\",\n",
        "            f\"author:{row['Book-Author']}\",\n",
        "            f\"publisher:{row['Publisher']}\"\n",
        "        ]\n",
        "        item_features_data.append((isbn, features))\n",
        "\n",
        "print(f\" Item features data prepared: {len(item_features_data)} items\")"
      ],
      "metadata": {
        "colab": {
          "base_uri": "https://localhost:8080/"
        },
        "id": "NslrCULrNNJW",
        "outputId": "b16d9af9-6cdd-4b26-8773-bbc2f62a3d99"
      },
      "execution_count": 149,
      "outputs": [
        {
          "output_type": "stream",
          "name": "stdout",
          "text": [
            " Valid ISBNs in ratings: 515\n",
            " ISBNs in books dataset: 513\n",
            " Books after filtering: 513\n",
            " Item features data prepared: 513 items\n"
          ]
        }
      ]
    },
    {
      "cell_type": "code",
      "source": [
        "item_features = dataset.build_item_features(item_features_data)\n",
        "\n",
        "print(f\" Item features matrix shape: {item_features.shape}\")\n",
        "print(f\" Item features matrix berhasil dibuat\")\n",
        "\n",
        "df_books = df_books_filtered"
      ],
      "metadata": {
        "colab": {
          "base_uri": "https://localhost:8080/"
        },
        "id": "aw8ji0MaQXXq",
        "outputId": "98e9175e-2b1f-4dde-c7d0-f133e446469f"
      },
      "execution_count": 150,
      "outputs": [
        {
          "output_type": "stream",
          "name": "stdout",
          "text": [
            " Item features matrix shape: (515, 1369)\n",
            " Item features matrix berhasil dibuat\n"
          ]
        }
      ]
    },
    {
      "cell_type": "markdown",
      "source": [
        "# TRAIN-TEST SPLIT 80/20"
      ],
      "metadata": {
        "id": "T30RNu_1NZeI"
      }
    },
    {
      "cell_type": "code",
      "source": [
        "train_interactions, test_interactions = random_train_test_split(\n",
        "    interactions, test_percentage=0.2, random_state=42\n",
        ")"
      ],
      "metadata": {
        "id": "AHnW_68cNWuO"
      },
      "execution_count": 151,
      "outputs": []
    },
    {
      "cell_type": "code",
      "source": [
        "\n",
        "print(f\" Train interactions: {train_interactions.nnz}\")\n",
        "print(f\" Test interactions: {test_interactions.nnz}\")\n",
        "print(f\" Train ratio: {(train_interactions.nnz / interactions.nnz) * 100:.1f}%\")\n",
        "print(f\" Test ratio: {(test_interactions.nnz / interactions.nnz) * 100:.1f}%\")"
      ],
      "metadata": {
        "colab": {
          "base_uri": "https://localhost:8080/"
        },
        "id": "GAXgQrhrNcCT",
        "outputId": "8c42395f-9bd2-424a-bd75-57aa7d8e87bf"
      },
      "execution_count": 152,
      "outputs": [
        {
          "output_type": "stream",
          "name": "stdout",
          "text": [
            " Train interactions: 6812\n",
            " Test interactions: 1704\n",
            " Train ratio: 80.0%\n",
            " Test ratio: 20.0%\n"
          ]
        }
      ]
    },
    {
      "cell_type": "markdown",
      "source": [
        "# Modeling"
      ],
      "metadata": {
        "id": "q9Zw9TKRNgrj"
      }
    },
    {
      "cell_type": "markdown",
      "source": [
        "Model COLLABORATIVE FILTERING"
      ],
      "metadata": {
        "id": "S60ScnviNvh2"
      }
    },
    {
      "cell_type": "code",
      "source": [
        "print(\" Training Collaborative Filtering Model...\")\n",
        "cf_model = LightFM(loss='warp', random_state=42, item_alpha=1e-6, user_alpha=1e-6)\n",
        "cf_model.fit(train_interactions, epochs=100, num_threads=2, verbose=True)\n",
        "\n",
        "print(\"✅ Collaborative Filtering Model berhasil dilatih!\")"
      ],
      "metadata": {
        "colab": {
          "base_uri": "https://localhost:8080/"
        },
        "id": "2yE1eqH2NuHb",
        "outputId": "842671f3-20fb-453f-ff06-36f977d5c593"
      },
      "execution_count": 164,
      "outputs": [
        {
          "output_type": "stream",
          "name": "stdout",
          "text": [
            " Training Collaborative Filtering Model...\n"
          ]
        },
        {
          "output_type": "stream",
          "name": "stderr",
          "text": [
            "Epoch: 100%|██████████| 100/100 [00:02<00:00, 40.31it/s]"
          ]
        },
        {
          "output_type": "stream",
          "name": "stdout",
          "text": [
            "✅ Collaborative Filtering Model berhasil dilatih!\n"
          ]
        },
        {
          "output_type": "stream",
          "name": "stderr",
          "text": [
            "\n"
          ]
        }
      ]
    },
    {
      "cell_type": "markdown",
      "source": [
        "Model 2 - Hybrid Filtering"
      ],
      "metadata": {
        "id": "5Dr_67yxNw1n"
      }
    },
    {
      "cell_type": "code",
      "source": [
        "print(\" Training Hybrid Filtering Model...\")\n",
        "hybrid_model = LightFM(loss='warp', random_state=42)\n",
        "hybrid_model.fit(\n",
        "    train_interactions,\n",
        "    item_features=item_features,\n",
        "    epochs=100,\n",
        "    num_threads=2,\n",
        "    verbose=True\n",
        ")\n",
        "\n",
        "print(\"✅ Hybrid Filtering Model berhasil dilatih!\")"
      ],
      "metadata": {
        "colab": {
          "base_uri": "https://localhost:8080/"
        },
        "id": "_zzTZUX_N1P8",
        "outputId": "43c3934a-9469-46e1-eba0-d94e0cc28573"
      },
      "execution_count": 157,
      "outputs": [
        {
          "output_type": "stream",
          "name": "stdout",
          "text": [
            " Training Hybrid Filtering Model...\n"
          ]
        },
        {
          "output_type": "stream",
          "name": "stderr",
          "text": [
            "Epoch: 100%|██████████| 100/100 [00:03<00:00, 28.54it/s]"
          ]
        },
        {
          "output_type": "stream",
          "name": "stdout",
          "text": [
            "✅ Hybrid Filtering Model berhasil dilatih!\n"
          ]
        },
        {
          "output_type": "stream",
          "name": "stderr",
          "text": [
            "\n"
          ]
        }
      ]
    },
    {
      "cell_type": "markdown",
      "source": [
        "# Evaluasi"
      ],
      "metadata": {
        "id": "90rkQqBQN6JK"
      }
    },
    {
      "cell_type": "markdown",
      "source": [
        "EVALUASI COLLABORATIVE FILTERING"
      ],
      "metadata": {
        "id": "Pg_SY3XfOF9N"
      }
    },
    {
      "cell_type": "code",
      "source": [
        "cf_train_precision = precision_at_k(cf_model, train_interactions, k=5).mean()\n",
        "cf_train_auc = auc_score(cf_model, train_interactions).mean()\n",
        "cf_test_precision = precision_at_k(cf_model, test_interactions, k=5).mean()\n",
        "cf_test_auc = auc_score(cf_model, test_interactions).mean()\n",
        "\n",
        "print(\" COLLABORATIVE FILTERING RESULTS:\")\n",
        "print(f\"   Train Precision@5: {cf_train_precision:.4f}\")\n",
        "print(f\"   Train AUC Score: {cf_train_auc:.4f}\")\n",
        "print(f\"   Test Precision@5: {cf_test_precision:.4f}\")\n",
        "print(f\"   Test AUC Score: {cf_test_auc:.4f}\")\n",
        "\n",
        "cf_results = {\n",
        "    'train_precision': cf_train_precision,\n",
        "    'train_auc': cf_train_auc,\n",
        "    'test_precision': cf_test_precision,\n",
        "    'test_auc': cf_test_auc\n",
        "}\n"
      ],
      "metadata": {
        "colab": {
          "base_uri": "https://localhost:8080/"
        },
        "id": "VgtGXL7XOLwR",
        "outputId": "bdcf4c9e-6a76-4485-e608-5aecef7afb97"
      },
      "execution_count": 165,
      "outputs": [
        {
          "output_type": "stream",
          "name": "stdout",
          "text": [
            " COLLABORATIVE FILTERING RESULTS:\n",
            "   Train Precision@5: 0.3908\n",
            "   Train AUC Score: 0.9294\n",
            "   Test Precision@5: 0.0177\n",
            "   Test AUC Score: 0.6417\n"
          ]
        }
      ]
    },
    {
      "cell_type": "markdown",
      "source": [
        "Evaluasi Hybrid Filtering"
      ],
      "metadata": {
        "id": "4YG8iVEzOAOY"
      }
    },
    {
      "cell_type": "code",
      "source": [
        "hybrid_train_precision = precision_at_k(\n",
        "    hybrid_model, train_interactions, item_features=item_features, k=5\n",
        ").mean()\n",
        "hybrid_train_auc = auc_score(\n",
        "    hybrid_model, train_interactions, item_features=item_features\n",
        ").mean()\n",
        "hybrid_test_precision = precision_at_k(\n",
        "    hybrid_model, test_interactions, item_features=item_features, k=5\n",
        ").mean()\n",
        "hybrid_test_auc = auc_score(\n",
        "    hybrid_model, test_interactions, item_features=item_features\n",
        ").mean()\n",
        "\n",
        "print(\" HYBRID FILTERING RESULTS:\")\n",
        "print(f\"    Train Precision@5: {hybrid_train_precision:.4f}\")\n",
        "print(f\"    Train AUC Score: {hybrid_train_auc:.4f}\")\n",
        "print(f\"    Test Precision@5: {hybrid_test_precision:.4f}\")\n",
        "print(f\"    Test AUC Score: {hybrid_test_auc:.4f}\")\n",
        "\n",
        "# Simpan hasil untuk perbandingan\n",
        "hybrid_results = {\n",
        "    'train_precision': hybrid_train_precision,\n",
        "    'train_auc': hybrid_train_auc,\n",
        "    'test_precision': hybrid_test_precision,\n",
        "    'test_auc': hybrid_test_auc\n",
        "}\n"
      ],
      "metadata": {
        "colab": {
          "base_uri": "https://localhost:8080/"
        },
        "id": "rFi5FpvpN_jR",
        "outputId": "e67b6141-1a87-4030-f37b-fdb6b1516562"
      },
      "execution_count": 159,
      "outputs": [
        {
          "output_type": "stream",
          "name": "stdout",
          "text": [
            " HYBRID FILTERING RESULTS:\n",
            "    Train Precision@5: 0.3514\n",
            "    Train AUC Score: 0.9195\n",
            "    Test Precision@5: 0.0338\n",
            "    Test AUC Score: 0.6940\n"
          ]
        }
      ]
    },
    {
      "cell_type": "markdown",
      "source": [],
      "metadata": {
        "id": "xABRtok0OWfR"
      }
    },
    {
      "cell_type": "code",
      "source": [
        "comparison_data = {\n",
        "    'Model': ['Collaborative Filtering', 'Hybrid Filtering'],\n",
        "    'Train Precision@5': [cf_results['train_precision'], hybrid_results['train_precision']],\n",
        "    'Train AUC': [cf_results['train_auc'], hybrid_results['train_auc']],\n",
        "    'Test Precision@5': [cf_results['test_precision'], hybrid_results['test_precision']],\n",
        "    'Test AUC': [cf_results['test_auc'], hybrid_results['test_auc']]\n",
        "}\n",
        "\n",
        "comparison_df = pd.DataFrame(comparison_data)\n",
        "print(\" PERBANDINGAN PERFORMA MODEL:\")\n",
        "print(comparison_df.to_string(index=False, float_format='%.4f'))\n",
        "\n",
        "# Tentukan model terbaik\n",
        "if hybrid_results['test_precision'] > cf_results['test_precision']:\n",
        "    best_model_name = 'Hybrid Filtering'\n",
        "    best_model = hybrid_model\n",
        "    best_test_precision = hybrid_results['test_precision']\n",
        "    model_type = 'hybrid'\n",
        "else:\n",
        "    best_model_name = 'Collaborative Filtering'\n",
        "    best_model = cf_model\n",
        "    best_test_precision = cf_results['test_precision']\n",
        "    model_type = 'collaborative'\n",
        "\n",
        "print(f\"\\n🏆 MODEL TERBAIK: {best_model_name}\")\n",
        "print(f\"📊 Test Precision@5: {best_test_precision:.4f}\")\n",
        "\n",
        "# ============================================================================\n",
        "# CELL 20: Visualisasi Perbandingan Model\n",
        "# ============================================================================\n",
        "\n",
        "# Visualisasi perbandingan model\n",
        "fig, axes = plt.subplots(1, 2, figsize=(15, 6))\n",
        "\n",
        "# Plot Precision@5\n",
        "metrics = ['Train Precision@5', 'Test Precision@5']\n",
        "cf_precision = [cf_results['train_precision'], cf_results['test_precision']]\n",
        "hybrid_precision = [hybrid_results['train_precision'], hybrid_results['test_precision']]\n",
        "\n",
        "x = np.arange(len(metrics))\n",
        "width = 0.35\n",
        "\n",
        "axes[0].bar(x - width/2, cf_precision, width, label='Collaborative Filtering', alpha=0.8)\n",
        "axes[0].bar(x + width/2, hybrid_precision, width, label='Hybrid Filtering', alpha=0.8)\n",
        "axes[0].set_xlabel('Metrics')\n",
        "axes[0].set_ylabel('Precision@5')\n",
        "axes[0].set_title('Perbandingan Precision@5')\n",
        "axes[0].set_xticks(x)\n",
        "axes[0].set_xticklabels(metrics)\n",
        "axes[0].legend()\n",
        "axes[0].grid(True, alpha=0.3)\n",
        "\n",
        "# Plot AUC Score\n",
        "metrics_auc = ['Train AUC', 'Test AUC']\n",
        "cf_auc = [cf_results['train_auc'], cf_results['test_auc']]\n",
        "hybrid_auc = [hybrid_results['train_auc'], hybrid_results['test_auc']]\n",
        "\n",
        "axes[1].bar(x - width/2, cf_auc, width, label='Collaborative Filtering', alpha=0.8)\n",
        "axes[1].bar(x + width/2, hybrid_auc, width, label='Hybrid Filtering', alpha=0.8)\n",
        "axes[1].set_xlabel('Metrics')\n",
        "axes[1].set_ylabel('AUC Score')\n",
        "axes[1].set_title('Perbandingan AUC Score')\n",
        "axes[1].set_xticks(x)\n",
        "axes[1].set_xticklabels(metrics_auc)\n",
        "axes[1].legend()\n",
        "axes[1].grid(True, alpha=0.3)\n",
        "\n",
        "plt.tight_layout()\n",
        "plt.show()"
      ],
      "metadata": {
        "colab": {
          "base_uri": "https://localhost:8080/",
          "height": 387
        },
        "id": "cfIqDPygOW7o",
        "outputId": "d8b5d109-ab4b-45b2-f89b-71830e8f4ad9"
      },
      "execution_count": 169,
      "outputs": [
        {
          "output_type": "stream",
          "name": "stdout",
          "text": [
            " PERBANDINGAN PERFORMA MODEL:\n",
            "                  Model  Train Precision@5  Train AUC  Test Precision@5  Test AUC\n",
            "Collaborative Filtering             0.3908     0.9294            0.0177    0.6417\n",
            "       Hybrid Filtering             0.3514     0.9195            0.0338    0.6940\n",
            "\n",
            "🏆 MODEL TERBAIK: Hybrid Filtering\n",
            "📊 Test Precision@5: 0.0338\n"
          ]
        },
        {
          "output_type": "display_data",
          "data": {
            "text/plain": [
              "<Figure size 1500x600 with 2 Axes>"
            ],
            "image/png": "[encoded data removed]"
          },
          "metadata": {}
        }
      ]
    },
    {
      "cell_type": "code",
      "source": [
        "print(\"=\" * 60)\n",
        "print(\"SETUP UNTUK REKOMENDASI\")\n",
        "print(\"=\" * 60)\n",
        "\n",
        "# Buat mapping untuk konversi ID\n",
        "user_mapping = {v: k for k, v in dataset.mapping()[0].items()}\n",
        "item_mapping = {v: k for k, v in dataset.mapping()[2].items()}\n",
        "\n",
        "print(f\" User mapping berhasil dibuat ({len(user_mapping)} users)\")\n",
        "print(f\" Item mapping berhasil dibuat ({len(item_mapping)} items)\")\n",
        "\n",
        "# Pilih sample user untuk demo\n",
        "sample_users = df_ratings['User-ID'].unique()[:5]\n",
        "print(f\"\\n👥 Sample Users untuk demo: {sample_users}\")"
      ],
      "metadata": {
        "colab": {
          "base_uri": "https://localhost:8080/"
        },
        "id": "zh2QicMrOa5T",
        "outputId": "52bde6ad-aa2a-4a8a-c7c0-fe44422aeba0"
      },
      "execution_count": 168,
      "outputs": [
        {
          "output_type": "stream",
          "name": "stdout",
          "text": [
            "============================================================\n",
            "SETUP UNTUK REKOMENDASI\n",
            "============================================================\n",
            " User mapping berhasil dibuat (460 users)\n",
            " Item mapping berhasil dibuat (515 items)\n",
            "\n",
            "👥 Sample Users untuk demo: [277427 278418   2033   2110   2276]\n"
          ]
        }
      ]
    },
    {
      "cell_type": "markdown",
      "source": [],
      "metadata": {
        "id": "NnOlDywcOfc_"
      }
    },
    {
      "cell_type": "code",
      "source": [
        "\n",
        "# ============================================================================\n",
        "# CELL 22: Rekomendasi dengan Collaborative Filtering\n",
        "# ============================================================================\n",
        "\n",
        "print(\"=\" * 80)\n",
        "print(\"REKOMENDASI DENGAN COLLABORATIVE FILTERING\")\n",
        "print(\"=\" * 80)\n",
        "\n",
        "# Pilih user untuk demo\n",
        "demo_user_id = df_ratings['User-ID'].iloc[100]  # User ke-100\n",
        "user_index = dataset.mapping()[0].get(demo_user_id)\n",
        "\n",
        "print(f\" REKOMENDASI UNTUK USER ID: {demo_user_id}\")\n",
        "print(f\" Model: COLLABORATIVE FILTERING\")\n",
        "print(\"-\" * 50)\n",
        "\n",
        "# Generate predictions dengan Collaborative Filtering\n",
        "cf_scores = cf_model.predict(user_index, np.arange(interactions.shape[1]))\n",
        "cf_top_items = np.argsort(-cf_scores)[:5]\n",
        "cf_recommended_isbns = [item_mapping[i] for i in cf_top_items]\n",
        "\n",
        "# Tampilkan rekomendasi CF\n",
        "print(\" TOP 5 REKOMENDASI (COLLABORATIVE FILTERING):\")\n",
        "for i, isbn in enumerate(cf_recommended_isbns, 1):\n",
        "    book_info = df_books[df_books['ISBN'] == isbn]\n",
        "    if not book_info.empty:\n",
        "        book = book_info.iloc[0]\n",
        "        score = cf_scores[cf_top_items[i-1]]\n",
        "        print(f\"\\n{i}. {book['Book-Title']}\")\n",
        "        print(f\"    Author: {book['Book-Author']}\")\n",
        "        print(f\"    Publisher: {book['Publisher']}\")\n",
        "        print(f\"    Score: {score:.4f}\")\n",
        "        print(f\"    ISBN: {isbn}\")\n",
        "\n",
        "        # Tampilkan gambar jika memungkinkan\n",
        "        try:\n",
        "            display(Image(url=book['Image-URL-L'], width=100))\n",
        "        except:\n",
        "            print(f\"   🖼️  Image URL: {book['Image-URL-L']}\")\n"
      ],
      "metadata": {
        "colab": {
          "base_uri": "https://localhost:8080/",
          "height": 1000
        },
        "id": "13DglcHJOfx5",
        "outputId": "a35bae0f-0b7c-4109-de16-15a8355554c1"
      },
      "execution_count": 167,
      "outputs": [
        {
          "output_type": "stream",
          "name": "stdout",
          "text": [
            "================================================================================\n",
            "REKOMENDASI DENGAN COLLABORATIVE FILTERING\n",
            "================================================================================\n",
            " REKOMENDASI UNTUK USER ID: 6242\n",
            " Model: COLLABORATIVE FILTERING\n",
            "--------------------------------------------------\n",
            " TOP 5 REKOMENDASI (COLLABORATIVE FILTERING):\n",
            "\n",
            "1. The Lovely Bones: A Novel\n",
            "    Author: Alice Sebold\n",
            "    Publisher: Little, Brown\n",
            "    Score: 0.7766\n",
            "    ISBN: 0316666343\n"
          ]
        },
        {
          "output_type": "display_data",
          "data": {
            "text/html": [
              "<img src=\"http://images.amazon.com/images/P/0316666343.01.LZZZZZZZ.jpg\" width=\"100\"/>"
            ],
            "text/plain": [
              "<IPython.core.display.Image object>"
            ]
          },
          "metadata": {}
        },
        {
          "output_type": "stream",
          "name": "stdout",
          "text": [
            "\n",
            "2. Bel Canto: A Novel\n",
            "    Author: Ann Patchett\n",
            "    Publisher: Perennial\n",
            "    Score: -0.2370\n",
            "    ISBN: 0060934417\n"
          ]
        },
        {
          "output_type": "display_data",
          "data": {
            "text/html": [
              "<img src=\"http://images.amazon.com/images/P/0060934417.01.LZZZZZZZ.jpg\" width=\"100\"/>"
            ],
            "text/plain": [
              "<IPython.core.display.Image object>"
            ]
          },
          "metadata": {}
        },
        {
          "output_type": "stream",
          "name": "stdout",
          "text": [
            "\n",
            "3. The Bonesetter's Daughter\n",
            "    Author: Amy Tan\n",
            "    Publisher: Putnam Publishing Group\n",
            "    Score: -0.5512\n",
            "    ISBN: 0399146431\n"
          ]
        },
        {
          "output_type": "display_data",
          "data": {
            "text/html": [
              "<img src=\"http://images.amazon.com/images/P/0399146431.01.LZZZZZZZ.jpg\" width=\"100\"/>"
            ],
            "text/plain": [
              "<IPython.core.display.Image object>"
            ]
          },
          "metadata": {}
        },
        {
          "output_type": "stream",
          "name": "stdout",
          "text": [
            "\n",
            "4. Tears of the Giraffe (No.1 Ladies Detective Agency)\n",
            "    Author: Alexander McCall Smith\n",
            "    Publisher: Anchor\n",
            "    Score: -0.5700\n",
            "    ISBN: 1400031354\n"
          ]
        },
        {
          "output_type": "display_data",
          "data": {
            "text/html": [
              "<img src=\"http://images.amazon.com/images/P/1400031354.01.LZZZZZZZ.jpg\" width=\"100\"/>"
            ],
            "text/plain": [
              "<IPython.core.display.Image object>"
            ]
          },
          "metadata": {}
        },
        {
          "output_type": "stream",
          "name": "stdout",
          "text": [
            "\n",
            "5. Empire Falls\n",
            "    Author: Richard Russo\n",
            "    Publisher: Vintage Books USA\n",
            "    Score: -0.8051\n",
            "    ISBN: 0375726403\n"
          ]
        },
        {
          "output_type": "display_data",
          "data": {
            "text/html": [
              "<img src=\"http://images.amazon.com/images/P/0375726403.01.LZZZZZZZ.jpg\" width=\"100\"/>"
            ],
            "text/plain": [
              "<IPython.core.display.Image object>"
            ]
          },
          "metadata": {}
        }
      ]
    },
    {
      "cell_type": "code",
      "source": [
        "# ============================================================================\n",
        "# CELL 23: Rekomendasi dengan Hybrid Filtering\n",
        "# ============================================================================\n",
        "\n",
        "print(\"=\" * 80)\n",
        "print(\"REKOMENDASI DENGAN HYBRID FILTERING\")\n",
        "print(\"=\" * 80)\n",
        "\n",
        "print(f\"🔍 REKOMENDASI UNTUK USER ID: {demo_user_id}\")\n",
        "print(f\"📊 Model: HYBRID FILTERING\")\n",
        "print(\"-\" * 50)\n",
        "\n",
        "hybrid_scores = hybrid_model.predict(\n",
        "    user_index,\n",
        "    np.arange(interactions.shape[1]),\n",
        "    item_features=item_features\n",
        ")\n",
        "hybrid_top_items = np.argsort(-hybrid_scores)[:5]\n",
        "hybrid_recommended_isbns = [item_mapping[i] for i in hybrid_top_items]\n",
        "\n",
        "print(\"📚 TOP 5 REKOMENDASI (HYBRID FILTERING):\")\n",
        "for i, isbn in enumerate(hybrid_recommended_isbns, 1):\n",
        "    book_info = df_books[df_books['ISBN'] == isbn]\n",
        "    if not book_info.empty:\n",
        "        book = book_info.iloc[0]\n",
        "        score = hybrid_scores[hybrid_top_items[i-1]]\n",
        "        print(f\"\\n{i}. {book['Book-Title']}\")\n",
        "        print(f\"   Author: {book['Book-Author']}\")\n",
        "        print(f\"   Publisher: {book['Publisher']}\")\n",
        "        print(f\"   Score: {score:.4f}\")\n",
        "        print(f\"   ISBN: {isbn}\")\n",
        "\n",
        "        # Tampilkan gambar jika memungkinkan\n",
        "        try:\n",
        "            display(Image(url=book['Image-URL-L'], width=100))\n",
        "        except:\n",
        "            print(f\"   🖼️  Image URL: {book['Image-URL-L']}\")"
      ],
      "metadata": {
        "colab": {
          "base_uri": "https://localhost:8080/",
          "height": 1000
        },
        "id": "cH5CtMCFOkA4",
        "outputId": "f7fc0569-a6bc-4809-e67e-c6a690081919"
      },
      "execution_count": 34,
      "outputs": [
        {
          "output_type": "stream",
          "name": "stdout",
          "text": [
            "================================================================================\n",
            "REKOMENDASI DENGAN HYBRID FILTERING\n",
            "================================================================================\n",
            "🔍 REKOMENDASI UNTUK USER ID: 2276\n",
            "📊 Model: HYBRID FILTERING\n",
            "--------------------------------------------------\n",
            "📚 TOP 5 REKOMENDASI (HYBRID FILTERING):\n",
            "\n",
            "1. The Partner\n",
            "   Author: John Grisham\n",
            "   Publisher: Dell Publishing Company\n",
            "   Score: -0.0419\n",
            "   ISBN: 0440224764\n"
          ]
        },
        {
          "output_type": "display_data",
          "data": {
            "text/html": [
              "<img src=\"http://images.amazon.com/images/P/0440224764.01.LZZZZZZZ.jpg\" width=\"100\"/>"
            ],
            "text/plain": [
              "<IPython.core.display.Image object>"
            ]
          },
          "metadata": {}
        },
        {
          "output_type": "stream",
          "name": "stdout",
          "text": [
            "\n",
            "2. C Is for Corpse (Kinsey Millhone Mysteries (Paperback))\n",
            "   Author: Sue Grafton\n",
            "   Publisher: Bantam\n",
            "   Score: -0.0860\n",
            "   ISBN: 0553280368\n"
          ]
        },
        {
          "output_type": "display_data",
          "data": {
            "text/html": [
              "<img src=\"http://images.amazon.com/images/P/0553280368.01.LZZZZZZZ.jpg\" width=\"100\"/>"
            ],
            "text/plain": [
              "<IPython.core.display.Image object>"
            ]
          },
          "metadata": {}
        },
        {
          "output_type": "stream",
          "name": "stdout",
          "text": [
            "\n",
            "3. Isle of Dogs\n",
            "   Author: Patricia Cornwell\n",
            "   Publisher: Berkley Publishing Group\n",
            "   Score: -0.0949\n",
            "   ISBN: 0425182908\n"
          ]
        },
        {
          "output_type": "display_data",
          "data": {
            "text/html": [
              "<img src=\"http://images.amazon.com/images/P/0425182908.01.LZZZZZZZ.jpg\" width=\"100\"/>"
            ],
            "text/plain": [
              "<IPython.core.display.Image object>"
            ]
          },
          "metadata": {}
        },
        {
          "output_type": "stream",
          "name": "stdout",
          "text": [
            "\n",
            "4. Jack &amp; Jill (Alex Cross Novels)\n",
            "   Author: James Patterson\n",
            "   Publisher: Warner Books\n",
            "   Score: -0.1616\n",
            "   ISBN: 0446604801\n"
          ]
        },
        {
          "output_type": "display_data",
          "data": {
            "text/html": [
              "<img src=\"http://images.amazon.com/images/P/0446604801.01.LZZZZZZZ.jpg\" width=\"100\"/>"
            ],
            "text/plain": [
              "<IPython.core.display.Image object>"
            ]
          },
          "metadata": {}
        },
        {
          "output_type": "stream",
          "name": "stdout",
          "text": [
            "\n",
            "5. 2nd Chance\n",
            "   Author: James Patterson\n",
            "   Publisher: Warner Vision\n",
            "   Score: -0.1648\n",
            "   ISBN: 0446612790\n"
          ]
        },
        {
          "output_type": "display_data",
          "data": {
            "text/html": [
              "<img src=\"http://images.amazon.com/images/P/0446612790.01.LZZZZZZZ.jpg\" width=\"100\"/>"
            ],
            "text/plain": [
              "<IPython.core.display.Image object>"
            ]
          },
          "metadata": {}
        }
      ]
    },
    {
      "cell_type": "code",
      "source": [],
      "metadata": {
        "id": "GT8R_bkHSFix"
      },
      "execution_count": 32,
      "outputs": []
    }
  ]
}